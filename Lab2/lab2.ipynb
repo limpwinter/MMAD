{
 "cells": [
  {
   "cell_type": "code",
   "execution_count": 1,
   "metadata": {},
   "outputs": [],
   "source": [
    "import matplotlib.pylab as plt\n",
    "import numpy as np\n",
    "import pandas as pd\n",
    "from sklearn.metrics import accuracy_score\n",
    "from sklearn.model_selection import train_test_split\n",
    "from sklearn.preprocessing import LabelEncoder as LE\n",
    "\n",
    "# from sklearn.preprocessing import OneHotEncoder"
   ]
  },
  {
   "cell_type": "code",
   "execution_count": 2,
   "metadata": {
    "collapsed": false,
    "jupyter": {
     "outputs_hidden": false
    }
   },
   "outputs": [
    {
     "data": {
      "text/plain": "4"
     },
     "execution_count": 2,
     "metadata": {},
     "output_type": "execute_result"
    }
   ],
   "source": [
    "39 % 12 + 1"
   ]
  },
  {
   "cell_type": "markdown",
   "metadata": {},
   "source": [
    "Считываем набор данных и задаем название столбцов"
   ]
  },
  {
   "cell_type": "code",
   "execution_count": 4,
   "metadata": {},
   "outputs": [],
   "source": [
    "df = pd.read_csv(\n",
    "       'agaricus-lepiota.data',\n",
    "       names=['class', 'cap-shape', 'cap-surface', 'cap-color',\n",
    "                        'bruises', 'odor', 'gill-attachment', 'gill-spacing', 'gill-size', 'gill-color',\n",
    "                        'stalk-shape', 'stalk-root', 'stalk-surface-above-ring', 'stalk-surface-below-ring',\n",
    "                        'stalk-color-above-ring', 'stalk-color-below-ring', 'veil-type', 'veil-color',\n",
    "                        'ring-number', 'ring-type', 'spore-print-color', 'population', 'habitat'],\n",
    "                 header=None)\n",
    "# df['class'].unique()"
   ]
  },
  {
   "cell_type": "markdown",
   "metadata": {},
   "source": [
    "## Определяем класс Наивного Байеса с методами fit и predict"
   ]
  },
  {
   "cell_type": "code",
   "execution_count": 5,
   "metadata": {},
   "outputs": [],
   "source": [
    "class NB:\n",
    "    def __init__(self, classes):\n",
    "        # При создании объекта класса определяем все переменные\n",
    "        self.classes = classes\n",
    "        self.n_class_items = {}\n",
    "        self.feat_counts = {}\n",
    "        self.class_priors = {}\n",
    "\n",
    "    def fit(self, X, y):\n",
    "        n = len(X)\n",
    "        grouped = dict() # группируем данные для удобства\n",
    "        for c in self.classes:\n",
    "            grouped[c] = X[np.where(y == c)]\n",
    "\n",
    "        for c, data in grouped.items():\n",
    "            self.n_class_items[c] = len(data)\n",
    "            self.class_priors[c] = (self.n_class_items[c] / n)\n",
    "            self.feat_counts[c] = np.sum(data, axis=0)\n",
    "        # возвращаем уже обученную модель\n",
    "        return self\n",
    "\n",
    "    def predict(self, X):  # предсказывает по набору входных данных метки класса\n",
    "        # print(self.feat_counts[self.classes[0]])\n",
    "        result = []\n",
    "        for row_idx in range(X.shape[0]):\n",
    "            class_scores = {c: self.class_priors[c] for c in\n",
    "                            self.classes}  # для каждого объекта возвращаем вероястности классов к изначальным значениям\n",
    "            for column_idx in range(X.shape[1]):\n",
    "                for c in self.classes:\n",
    "                    if X[row_idx][column_idx] == 0:  # X состоит только из 0 и 1\n",
    "                        continue\n",
    "                    prob_w_given_c = (self.feat_counts[c][column_idx] + 1) / (\n",
    "                          X.shape[0])  # вероятности считаем как частоты появлений соотв. 1 в признаках\n",
    "                    class_scores[c] *= prob_w_given_c\n",
    "            result.append(max(class_scores,\n",
    "                              key=class_scores.get))  # добавляем в возвращаемый массив метку класса с наибольшей вероятностью\n",
    "        return result"
   ]
  },
  {
   "cell_type": "markdown",
   "metadata": {},
   "source": [
    "С помощью Label Encoder кодируем строки числами"
   ]
  },
  {
   "cell_type": "code",
   "execution_count": 6,
   "metadata": {},
   "outputs": [],
   "source": [
    "mushrooms_df = df.loc[:, ['veil-type', 'veil-color',\n",
    "                          'ring-number', 'ring-type', 'spore-print-color', 'class']]\n",
    "le_1 = LE()\n",
    "mushrooms_df['veil-type'] = le_1.fit_transform(mushrooms_df['veil-type'])\n",
    "le_2 = LE()\n",
    "mushrooms_df['veil-color'] = le_2.fit_transform(mushrooms_df['veil-color'])\n",
    "le_3 = LE()\n",
    "mushrooms_df['ring-number'] = le_3.fit_transform(mushrooms_df['ring-number'])\n",
    "le_4 = LE()\n",
    "mushrooms_df['ring-type'] = le_4.fit_transform(mushrooms_df['ring-type'])\n",
    "le_5 = LE()\n",
    "mushrooms_df['spore-print-color'] = le_5.fit_transform(mushrooms_df['spore-print-color'])"
   ]
  },
  {
   "cell_type": "markdown",
   "metadata": {},
   "source": [
    "Для определения самого информативного признака создаем список датафреймов"
   ]
  },
  {
   "cell_type": "code",
   "execution_count": 7,
   "metadata": {},
   "outputs": [],
   "source": [
    "df_list = [df.loc[:, ['veil-type', 'class']],\n",
    "           df.loc[:, ['veil-color', 'class']],\n",
    "           df.loc[:, ['ring-number', 'class']],\n",
    "           df.loc[:, ['ring-type', 'class']],\n",
    "           df.loc[:, ['spore-print-color', 'class']]]"
   ]
  },
  {
   "cell_type": "code",
   "execution_count": 8,
   "metadata": {},
   "outputs": [
    {
     "name": "stdout",
     "output_type": "stream",
     "text": [
      "Точность NB по признаку на обучающей выборке veil-type:\t0.5189940204009849\n",
      "Точность NB по признаку на тестовой выборке veil-type:\t0.5155865463494668\n",
      "Точность NB по признаку на обучающей выборке veil-color:\t0.5202251143158635\n",
      "Точность NB по признаку на тестовой выборке veil-color:\t0.5159967186218212\n",
      "Точность NB по признаку на обучающей выборке ring-number:\t0.5240942666197679\n",
      "Точность NB по признаку на тестовой выборке ring-number:\t0.5184577522559475\n",
      "Точность NB по признаку на обучающей выборке ring-type:\t0.7762926486106225\n",
      "Точность NB по признаку на тестовой выборке ring-type:\t0.7735849056603774\n",
      "Точность NB по признаку на обучающей выборке spore-print-color:\t0.8673935983116426\n",
      "Точность NB по признаку на тестовой выборке spore-print-color:\t0.8695652173913043\n",
      "Точность на обучающей выборке выше точности на тестовой на:0.28%\n"
     ]
    }
   ],
   "source": [
    "acc_diffs = []\n",
    "for df in df_list:\n",
    "    label_encoder = LE()\n",
    "    df.iloc[:, 0] = label_encoder.fit_transform(df.iloc[:, 0])\n",
    "    train_data, test_data = train_test_split(df, test_size=0.3,random_state=42)\n",
    "\n",
    "    y_train = train_data['class']\n",
    "    y_test = test_data['class']\n",
    "    X_train = train_data.drop(['class'], axis=1)\n",
    "    X_test = test_data.drop(['class'], axis=1)\n",
    "    X_train = pd.get_dummies(X_train, columns=[df.columns[0]])\n",
    "    X_test = pd.get_dummies(X_test, columns=[df.columns[0]])\n",
    "    X_train, X_test = X_train.values, X_test.values\n",
    "\n",
    "    model = NB(classes=np.unique(y_train)).fit(X_train, y_train)\n",
    "\n",
    "    y_test_pred = model.predict(X_test)\n",
    "    y_train_pred = model.predict(X_train)\n",
    "\n",
    "    acc_train = accuracy_score(y_train, y_train_pred)\n",
    "    acc_test = accuracy_score(y_test, y_test_pred)\n",
    "    acc_diffs.append(acc_train - acc_test)\n",
    "    print(f'Точность NB по признаку на обучающей выборке {df.columns[0]}:\\t{acc_train}')\n",
    "    print(f'Точность NB по признаку на тестовой выборке {df.columns[0]}:\\t{acc_test}')\n",
    "\n",
    "print(f\"Точность на обучающей выборке выше точности на тестовой на:{np.array(acc_diffs).mean() * 100:.2f}%\")"
   ]
  },
  {
   "cell_type": "markdown",
   "metadata": {},
   "source": [
    "Видим что признак spore-print-color являетса самым информативным."
   ]
  },
  {
   "cell_type": "code",
   "execution_count": 9,
   "metadata": {},
   "outputs": [
    {
     "name": "stdout",
     "output_type": "stream",
     "text": [
      "1\n",
      "1\n"
     ]
    },
    {
     "data": {
      "text/plain": "<Figure size 864x432 with 2 Axes>",
      "image/png": "[encoded data removed]"
     },
     "metadata": {},
     "output_type": "display_data"
    },
    {
     "name": "stdout",
     "output_type": "stream",
     "text": [
      "2\n",
      "3\n"
     ]
    },
    {
     "data": {
      "text/plain": "<Figure size 864x432 with 2 Axes>",
      "image/png": "[encoded data removed]"
     },
     "metadata": {},
     "output_type": "display_data"
    },
    {
     "name": "stdout",
     "output_type": "stream",
     "text": [
      "3\n",
      "2\n"
     ]
    },
    {
     "data": {
      "text/plain": "<Figure size 864x432 with 2 Axes>",
      "image/png": "[encoded data removed]"
     },
     "metadata": {},
     "output_type": "display_data"
    },
    {
     "name": "stdout",
     "output_type": "stream",
     "text": [
      "4\n",
      "3\n"
     ]
    },
    {
     "data": {
      "text/plain": "<Figure size 864x432 with 2 Axes>",
      "image/png": "[encoded data removed]"
     },
     "metadata": {},
     "output_type": "display_data"
    },
    {
     "name": "stdout",
     "output_type": "stream",
     "text": [
      "5\n",
      "8\n"
     ]
    },
    {
     "data": {
      "text/plain": "<Figure size 864x432 with 2 Axes>",
      "image/png": "[encoded data removed]"
     },
     "metadata": {},
     "output_type": "display_data"
    }
   ],
   "source": [
    "# mushrooms_df.groupby('class').hist(figsize=(15,15))\n",
    "l = False\n",
    "for col in mushrooms_df.drop('class',axis=1).columns:\n",
    "    plt.figure(figsize=(12, 6)) \n",
    "    for cl in mushrooms_df['class'].unique():\n",
    "        plt.subplot(1,2, int(l) + 1)\n",
    "        n_unique = len(mushrooms_df[mushrooms_df['class'] == cl][col].unique())\n",
    "        plt.hist(mushrooms_df[mushrooms_df['class'] == cl][col])\n",
    "        plt.xlabel(col)\n",
    "        plt.legend(cl)\n",
    "        print(n_unique)\n",
    "        l =  not l\n",
    "    plt.show()"
   ]
  },
  {
   "cell_type": "code",
   "execution_count": 10,
   "metadata": {},
   "outputs": [],
   "source": [
    "mushrooms_df = pd.get_dummies(mushrooms_df, columns=['veil-type', 'veil-color',\n",
    "                                                     'ring-number', 'ring-type', 'spore-print-color'])\n"
   ]
  },
  {
   "cell_type": "code",
   "execution_count": 11,
   "metadata": {},
   "outputs": [
    {
     "data": {
      "text/plain": "5686"
     },
     "execution_count": 11,
     "metadata": {},
     "output_type": "execute_result"
    }
   ],
   "source": [
    "len(X_train)"
   ]
  },
  {
   "cell_type": "code",
   "execution_count": 12,
   "metadata": {},
   "outputs": [],
   "source": [
    "train_data, test_data = train_test_split(mushrooms_df, test_size=0.3, random_state=42)\n",
    "\n",
    "y_train = train_data['class'].values\n",
    "X_train = train_data.drop('class', axis=1).values\n",
    "\n",
    "y_test = test_data['class'].values\n",
    "X_test = test_data.drop('class', axis=1).values\n",
    "\n",
    "nb_custom = NB(classes=np.unique(y_train)).fit(X_train, y_train)"
   ]
  },
  {
   "cell_type": "code",
   "execution_count": 13,
   "metadata": {},
   "outputs": [],
   "source": [
    "y_pred = np.array(nb_custom.predict(X_test))"
   ]
  },
  {
   "cell_type": "code",
   "execution_count": 14,
   "metadata": {},
   "outputs": [
    {
     "data": {
      "text/plain": "0.9343724364232978"
     },
     "execution_count": 14,
     "metadata": {},
     "output_type": "execute_result"
    }
   ],
   "source": [
    "from sklearn.metrics import accuracy_score\n",
    "\n",
    "own = accuracy_score(y_test, y_pred)\n",
    "\n",
    "own"
   ]
  },
  {
   "cell_type": "code",
   "execution_count": 15,
   "metadata": {},
   "outputs": [],
   "source": [
    "from sklearn.naive_bayes import MultinomialNB, BernoulliNB, CategoricalNB"
   ]
  },
  {
   "cell_type": "code",
   "execution_count": 16,
   "metadata": {},
   "outputs": [
    {
     "name": "stderr",
     "output_type": "stream",
     "text": [
      "/home/limp/anaconda3/lib/python3.9/site-packages/sklearn/naive_bayes.py:555: UserWarning: alpha too small will result in numeric errors, setting alpha = 1.0e-10\n",
      "  warnings.warn(\n"
     ]
    }
   ],
   "source": [
    "mnb = MultinomialNB(alpha=0.0).fit(X_train, y_train)"
   ]
  },
  {
   "cell_type": "code",
   "execution_count": 17,
   "metadata": {},
   "outputs": [],
   "source": [
    "y_pred2 = mnb.predict(X_test)"
   ]
  },
  {
   "cell_type": "code",
   "execution_count": 18,
   "metadata": {},
   "outputs": [
    {
     "data": {
      "text/plain": "0.9343724364232978"
     },
     "execution_count": 18,
     "metadata": {},
     "output_type": "execute_result"
    }
   ],
   "source": [
    "vstr = accuracy_score(y_test, y_pred2)\n",
    "vstr"
   ]
  },
  {
   "cell_type": "code",
   "execution_count": 19,
   "metadata": {},
   "outputs": [
    {
     "data": {
      "text/plain": "0.0"
     },
     "execution_count": 19,
     "metadata": {},
     "output_type": "execute_result"
    }
   ],
   "source": [
    "vstr - own"
   ]
  }
 ],
 "metadata": {
  "kernelspec": {
   "display_name": "Python 3.9.12 ('base')",
   "language": "python",
   "name": "python3"
  },
  "language_info": {
   "codemirror_mode": {
    "name": "ipython",
    "version": 3
   },
   "file_extension": ".py",
   "mimetype": "text/x-python",
   "name": "python",
   "nbconvert_exporter": "python",
   "pygments_lexer": "ipython3",
   "version": "3.9.12"
  },
  "vscode": {
   "interpreter": {
    "hash": "c93178932c2eed906767336cdfe8d9035dbcb2579c379ba58325d3b6392e76b8"
   }
  }
 },
 "nbformat": 4,
 "nbformat_minor": 4
}
